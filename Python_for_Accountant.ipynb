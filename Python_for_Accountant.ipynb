{
  "nbformat": 4,
  "nbformat_minor": 0,
  "metadata": {
    "colab": {
      "name": "Python for Accountant.ipynb",
      "provenance": [],
      "collapsed_sections": [],
      "authorship_tag": "ABX9TyM4rHLSj4ml8mAZAcLztZj6",
      "include_colab_link": true
    },
    "kernelspec": {
      "name": "python3",
      "display_name": "Python 3"
    },
    "language_info": {
      "name": "python"
    }
  },
  "cells": [
    {
      "cell_type": "markdown",
      "metadata": {
        "id": "view-in-github",
        "colab_type": "text"
      },
      "source": [
        "<a href=\"https://colab.research.google.com/github/anhmaiusa/AnhMai/blob/main/Python_for_Accountant.ipynb\" target=\"_parent\"><img src=\"https://colab.research.google.com/assets/colab-badge.svg\" alt=\"Open In Colab\"/></a>"
      ]
    },
    {
      "cell_type": "code",
      "execution_count": 2,
      "metadata": {
        "colab": {
          "base_uri": "https://localhost:8080/"
        },
        "id": "4z_LuUWxPJw6",
        "outputId": "458f0693-0614-486d-91e5-05c227770b15"
      },
      "outputs": [
        {
          "output_type": "stream",
          "name": "stdout",
          "text": [
            "Requirement already satisfied: pandas in /usr/local/lib/python3.7/dist-packages (1.3.5)\n",
            "Requirement already satisfied: pytz>=2017.3 in /usr/local/lib/python3.7/dist-packages (from pandas) (2022.1)\n",
            "Requirement already satisfied: python-dateutil>=2.7.3 in /usr/local/lib/python3.7/dist-packages (from pandas) (2.8.2)\n",
            "Requirement already satisfied: numpy>=1.17.3 in /usr/local/lib/python3.7/dist-packages (from pandas) (1.21.6)\n",
            "Requirement already satisfied: six>=1.5 in /usr/local/lib/python3.7/dist-packages (from python-dateutil>=2.7.3->pandas) (1.15.0)\n"
          ]
        }
      ],
      "source": [
        "!pip install pandas\n"
      ]
    },
    {
      "cell_type": "code",
      "source": [
        "import pandas"
      ],
      "metadata": {
        "id": "hTUTELspPU6I"
      },
      "execution_count": 3,
      "outputs": []
    },
    {
      "cell_type": "code",
      "source": [
        "my_first_df = pandas.DataFrame()"
      ],
      "metadata": {
        "id": "5NLR9P00Pv97"
      },
      "execution_count": null,
      "outputs": []
    },
    {
      "cell_type": "code",
      "source": [
        "from pandas.core.frame import DataFrame\n",
        "from pandas.io.formats.format import DataFrameFormatter\n",
        "type(DataFrame)"
      ],
      "metadata": {
        "colab": {
          "base_uri": "https://localhost:8080/"
        },
        "id": "VGJ4A-NnP9RV",
        "outputId": "a186543b-d2cb-4b9e-d935-9ca6b7029a89"
      },
      "execution_count": null,
      "outputs": [
        {
          "output_type": "execute_result",
          "data": {
            "text/plain": [
              "type"
            ]
          },
          "metadata": {},
          "execution_count": 5
        }
      ]
    },
    {
      "cell_type": "code",
      "source": [
        "print(my_first_df)"
      ],
      "metadata": {
        "colab": {
          "base_uri": "https://localhost:8080/"
        },
        "id": "zz2Re69JQFhk",
        "outputId": "7b73a07f-4041-498f-9e33-0ce0cf116808"
      },
      "execution_count": null,
      "outputs": [
        {
          "output_type": "stream",
          "name": "stdout",
          "text": [
            "Empty DataFrame\n",
            "Columns: []\n",
            "Index: []\n"
          ]
        }
      ]
    },
    {
      "cell_type": "code",
      "source": [
        "PnL = ['sales','COS','expenses','tax']\n",
        "PnL_DF = pandas.DataFrame(PnL)\n",
        "print(PnL_DF)"
      ],
      "metadata": {
        "colab": {
          "base_uri": "https://localhost:8080/"
        },
        "id": "JgSnocSUSKUF",
        "outputId": "f26671b3-fe7a-453e-d3e8-c591e0fe7564"
      },
      "execution_count": null,
      "outputs": [
        {
          "output_type": "stream",
          "name": "stdout",
          "text": [
            "          0\n",
            "0     sales\n",
            "1       COS\n",
            "2  expenses\n",
            "3       tax\n"
          ]
        }
      ]
    },
    {
      "cell_type": "code",
      "source": [
        "PnL_list = [['sale', 50],['COS', 20], ['expenses', 5]]\n",
        "PnL_listDF = pandas.DataFrame(PnL_list, columns=['Items','Amounts'])\n",
        "print(PnL_listDF)"
      ],
      "metadata": {
        "colab": {
          "base_uri": "https://localhost:8080/"
        },
        "id": "slSKxGxrSvMh",
        "outputId": "cbaa80d8-3837-408e-c547-63e1dd3399e0"
      },
      "execution_count": 25,
      "outputs": [
        {
          "output_type": "stream",
          "name": "stdout",
          "text": [
            "      Items  Amounts\n",
            "0      sale       50\n",
            "1       COS       20\n",
            "2  expenses        5\n"
          ]
        }
      ]
    },
    {
      "cell_type": "code",
      "source": [
        "PnL_dict = {'year':[2021,2022,2023],'sale': [50,60,70],'COS': [20,30,35], 'expenses': [5,10,15]}\n",
        "PnL_dictDF = pandas.DataFrame(PnL_dict, index = PnL_dict['year'], columns= ['sale','COS','expenses'])\n",
        "print(PnL_dictDF)"
      ],
      "metadata": {
        "colab": {
          "base_uri": "https://localhost:8080/"
        },
        "id": "QtKB1CCHW82W",
        "outputId": "9c92e166-e285-4c6d-806f-d7fa421510f9"
      },
      "execution_count": 17,
      "outputs": [
        {
          "output_type": "stream",
          "name": "stdout",
          "text": [
            "      sale  COS  expenses\n",
            "2021    50   20         5\n",
            "2022    60   30        10\n",
            "2023    70   35        15\n"
          ]
        }
      ]
    }
  ]
}